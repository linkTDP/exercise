{
 "cells": [
  {
   "cell_type": "code",
   "execution_count": 3,
   "metadata": {
    "collapsed": false
   },
   "outputs": [
    {
     "name": "stdout",
     "output_type": "stream",
     "text": [
      "Populating the interactive namespace from numpy and matplotlib\n"
     ]
    }
   ],
   "source": [
    "import pandas as pd \n",
    "import os\n",
    "import numpy as np\n",
    "import xgboost as xgb\n",
    "import seaborn as sns\n",
    "import mca\n",
    "sns.set(color_codes=True)\n",
    "%pylab inline"
   ]
  },
  {
   "cell_type": "code",
   "execution_count": 4,
   "metadata": {
    "collapsed": true
   },
   "outputs": [],
   "source": [
    "ROOT = os.path.abspath(\"./data\")\n",
    "TRAIN_FILE = os.path.join(ROOT, 'training.csv')\n",
    "TEST_FILE = os.path.join(ROOT, 'testing.csv')\n",
    "\n",
    "assert os.path.exists(ROOT)\n",
    "assert os.path.exists(TRAIN_FILE)\n",
    "assert os.path.exists(TEST_FILE)\n"
   ]
  },
  {
   "cell_type": "code",
   "execution_count": 5,
   "metadata": {
    "collapsed": true
   },
   "outputs": [],
   "source": [
    "train = pd.read_csv(TRAIN_FILE)\n",
    "test = pd.read_csv(TEST_FILE)\n",
    "test = test[test.columns[1:]]\n",
    "X_train=train[train.columns[1:-1]]\n",
    "data = pd.concat([X_train,test])"
   ]
  },
  {
   "cell_type": "code",
   "execution_count": 9,
   "metadata": {
    "collapsed": true
   },
   "outputs": [],
   "source": [
    "Y_train=pd.get_dummies(train[\"state\"]).as_matrix()"
   ]
  },
  {
   "cell_type": "code",
   "execution_count": 6,
   "metadata": {
    "collapsed": false
   },
   "outputs": [],
   "source": [
    "mca_df = mca.MCA(data)"
   ]
  },
  {
   "cell_type": "markdown",
   "metadata": {},
   "source": [
    "# Factors and explained variance"
   ]
  },
  {
   "cell_type": "code",
   "execution_count": 7,
   "metadata": {
    "collapsed": false
   },
   "outputs": [
    {
     "data": {
      "text/plain": [
       "[<matplotlib.lines.Line2D at 0x24dffd7fa20>]"
      ]
     },
     "execution_count": 7,
     "metadata": {},
     "output_type": "execute_result"
    },
    {
     "data": {
      "image/png": "[encoded data removed]",
      "text/plain": [
       "<matplotlib.figure.Figure at 0x24dc97e3e80>"
      ]
     },
     "metadata": {},
     "output_type": "display_data"
    }
   ],
   "source": [
    "plt = plt.plot(mca_df.expl_var())"
   ]
  },
  {
   "cell_type": "code",
   "execution_count": 25,
   "metadata": {
    "collapsed": true
   },
   "outputs": [],
   "source": [
    "reduced = mca_df.fs_r(N=10)\n",
    "np.savetxt('reduced_10.out', reduced, delimiter=',')\n",
    "reduced = mca_df.fs_r(N=100)\n",
    "np.savetxt('reduced_100.out', reduced, delimiter=',')\n",
    "reduced = mca_df.fs_r(N=1000)\n",
    "np.savetxt('reduced_1000.out', reduced, delimiter=',')"
   ]
  },
  {
   "cell_type": "code",
   "execution_count": 29,
   "metadata": {
    "collapsed": true
   },
   "outputs": [],
   "source": [
    "reduced = mca_df.fs_r(N=500)\n",
    "np.savetxt('reduced_500.out', reduced, delimiter=',')"
   ]
  },
  {
   "cell_type": "code",
   "execution_count": 27,
   "metadata": {
    "collapsed": true
   },
   "outputs": [],
   "source": [
    "reduced = mca_df.fs_r(N=2000)\n",
    "np.savetxt('reduced_2000.out', reduced, delimiter=',')\n",
    "reduced = mca_df.fs_r(N=4000)\n",
    "np.savetxt('reduced_4000.out', reduced, delimiter=',')\n",
    "reduced = mca_df.fs_r(N=6000)\n",
    "np.savetxt('reduced_6000.out', reduced, delimiter=',')"
   ]
  }
 ],
 "metadata": {
  "kernelspec": {
   "display_name": "Python 3",
   "language": "python",
   "name": "python3"
  },
  "language_info": {
   "codemirror_mode": {
    "name": "ipython",
    "version": 3
   },
   "file_extension": ".py",
   "mimetype": "text/x-python",
   "name": "python",
   "nbconvert_exporter": "python",
   "pygments_lexer": "ipython3",
   "version": "3.5.2"
  }
 },
 "nbformat": 4,
 "nbformat_minor": 2
}
