{
 "cells": [
  {
   "cell_type": "markdown",
   "metadata": {},
   "source": [
    "The dataset is composed of a small number of sample and a large number of categorical (binary) features. Given the nature of the feature, topics, I used MCA as dimensionality reduction technique in order to decrease the linear correlation between the features. I used MCA instead of PCA because is a dimensionality reduction technique for categorical features.\n",
    "\n",
    "I tested different models by stratified Cross Validation and F1-measure as evaluation metrics. The dataset is quite unbalanced and I tried to use different upsampling and downsampling techniques with no luck. "
   ]
  },
  {
   "cell_type": "code",
   "execution_count": 3,
   "metadata": {
    "collapsed": false
   },
   "outputs": [
    {
     "name": "stderr",
     "output_type": "stream",
     "text": [
      "C:\\Program Files\\Anaconda2\\envs\\py35\\lib\\site-packages\\sklearn\\cross_validation.py:41: DeprecationWarning: This module was deprecated in version 0.18 in favor of the model_selection module into which all the refactored classes and functions are moved. Also note that the interface of the new CV iterators are different from that of this module. This module will be removed in 0.20.\n",
      "  \"This module will be removed in 0.20.\", DeprecationWarning)\n"
     ]
    },
    {
     "name": "stdout",
     "output_type": "stream",
     "text": [
      "Populating the interactive namespace from numpy and matplotlib\n"
     ]
    },
    {
     "name": "stderr",
     "output_type": "stream",
     "text": [
      "C:\\Program Files\\Anaconda2\\envs\\py35\\lib\\site-packages\\IPython\\core\\magics\\pylab.py:161: UserWarning:\n",
      "\n",
      "pylab import has clobbered these variables: ['shuffle']\n",
      "`%matplotlib` prevents importing * from pylab and numpy\n",
      "\n"
     ]
    }
   ],
   "source": [
    "import pandas as pd \n",
    "import os\n",
    "import numpy as np\n",
    "import xgboost as xgb\n",
    "import lightgbm as lgbm\n",
    "import utils as ut\n",
    "from collections import defaultdict\n",
    "import operator \n",
    "import plotly as py\n",
    "import seaborn as sns\n",
    "from plotly import tools\n",
    "import plotly.graph_objs as go\n",
    "from scipy.stats import skew, boxcox\n",
    "from sklearn import svm\n",
    "from imblearn.over_sampling import RandomOverSampler,SMOTE \n",
    "from imblearn.under_sampling import RandomUnderSampler\n",
    "from sklearn.naive_bayes import BernoulliNB\n",
    "from sklearn.metrics import roc_auc_score\n",
    "from sklearn import metrics\n",
    "\n",
    "from sklearn.linear_model import RidgeClassifierCV\n",
    "from sklearn.model_selection import ParameterGrid\n",
    "from sklearn.model_selection import KFold\n",
    "from sklearn.metrics import accuracy_score\n",
    "from sklearn.linear_model import RidgeClassifier\n",
    "from sklearn.model_selection import StratifiedKFold\n",
    "from sklearn.utils import shuffle\n",
    "sns.set(color_codes=True)\n",
    "%pylab inline"
   ]
  },
  {
   "cell_type": "code",
   "execution_count": 4,
   "metadata": {
    "collapsed": false
   },
   "outputs": [],
   "source": [
    "ROOT = os.path.abspath(\"./data\")\n",
    "TRAIN_FILE = os.path.join(ROOT, 'training.csv')\n",
    "TEST_FILE = os.path.join(ROOT, 'testing.csv')\n",
    "\n",
    "assert os.path.exists(ROOT)\n",
    "assert os.path.exists(TRAIN_FILE)\n",
    "assert os.path.exists(TEST_FILE)\n"
   ]
  },
  {
   "cell_type": "code",
   "execution_count": 5,
   "metadata": {
    "collapsed": false
   },
   "outputs": [],
   "source": [
    "train = pd.read_csv(TRAIN_FILE)\n",
    "test = pd.read_csv(TEST_FILE)"
   ]
  },
  {
   "cell_type": "markdown",
   "metadata": {},
   "source": [
    "# result model selection with different factors"
   ]
  },
  {
   "cell_type": "code",
   "execution_count": null,
   "metadata": {
    "collapsed": true
   },
   "outputs": [],
   "source": [
    "results=[{'kind':'naiveBayesB','factors':10,'acc':0.12645,'f1':0.21011156830580946},\n",
    "            {'kind':'naiveBayesB','factors':100,'acc':0.2547,'f1':0.28727050818930155},\n",
    "            {'kind':'naiveBayesB','factors':500,'acc':0.31650000000000006,'f1':0.3192703910150568},\n",
    "            {'kind':'naiveBayesB','factors':1000,'acc':0.32034999999999997,'f1':0.3264149792525196},\n",
    "            {'kind':'naiveBayesB','factors':2000,'acc':0.3183,'f1':0.3306926417516257},\n",
    "            {'kind':'naiveBayesB','factors':4000,'acc':0.28905000000000003,'f1':0.30743640822712653},\n",
    "            {'kind':'naiveBayesB','factors':6000,'acc':0.27435,'f1':0.29537615584856936},\n",
    "            {'kind':'svm_linear','factors':10,'acc':0.1287,'f1':0.21528337473384895},\n",
    "            {'kind':'svm_linear','factors':100,'acc':0.2818,'f1':0.3451960184748698},\n",
    "            {'kind':'svm_linear','factors':500,'acc':0.34865,'f1':0.37341695223211196},\n",
    "            {'kind':'svm_linear','factors':1000,'acc':0.32935000000000003,'f1':0.34341797168187777},\n",
    "            {'kind':'LogReg','factors':10,'acc':0.12910000000000002,'f1':0.21526709141729294},\n",
    "            {'kind':'LogReg','factors':100,'acc':0.27280000000000004,'f1':0.3251063765962684},\n",
    "            {'kind':'LogReg','factors':500,'acc':0.33315,'f1':0.3663592298454581},\n",
    "            {'kind':'LogReg','factors':1000,'acc':0.33925000000000005,'f1':0.3703325320115182},\n",
    "            {'kind':'LogReg','factors':2000,'acc':0.33930000000000005,'f1':0.3692964179333436},\n",
    "            {'kind':'LogReg','factors':4000,'acc':0.34324999999999994,'f1':0.37298221777409213},\n",
    "            {'kind':'LogReg','factors':6000,'acc':0.34505,'f1':0.3752694043219494},\n",
    "            {'kind':'RandomForest','factors':10,'acc':0.08274999999999999,'f1':0.10345457721154747},\n",
    "            {'kind':'RandomForest','factors':100,'acc':0.1618,'f1':0.18556044114421621},\n",
    "            {'kind':'RandomForest','factors':500,'acc':0.14499999999999996,'f1':0.16655636009818248},\n",
    "            {'kind':'RandomForest','factors':1000,'acc':0.12745,'f1':0.1493286825730839},\n",
    "            {'kind':'RandomForest','factors':2000,'acc':0.11514999999999997,'f1':0.13643402479117075},\n",
    "            {'kind':'RandomForest','factors':4000,'acc':0.10225,'f1':0.1243647631274544},\n",
    "            {'kind':'RandomForest','factors':6000,'acc':0.10070000000000001,'f1':0.12243301909735327},\n",
    "            {'kind':'RidgeClassifier','factors':10,'acc':0.12895,'f1':0.21582361342373063},\n",
    "            {'kind':'RidgeClassifier','factors':100,'acc':0.26575000000000004,'f1':0.3302802075344601},\n",
    "            {'kind':'RidgeClassifier','factors':500,'acc':0.34809999999999997,'f1':0.3868145863141509},\n",
    "            {'kind':'RidgeClassifier','factors':1000,'acc':0.36125,'f1':0.39411710425977686},\n",
    "            {'kind':'RidgeClassifier','factors':2000,'acc':0.36124999999999996,'f1':0.38952560851102797},\n",
    "            {'kind':'RidgeClassifier','factors':4000,'acc':0.3463,'f1':0.3719846628348648},\n",
    "            {'kind':'RidgeClassifier','factors':6000,'acc':0.3396,'f1':0.36479259053206115},\n",
    "            {'kind':'XGboost','factors':1000,'acc':0.317,'f1':0.33453628348648},\n",
    "            {'kind':'XGboost','factors':2000,'acc':0.297,'f1':0.312585}]\n"
   ]
  },
  {
   "cell_type": "code",
   "execution_count": 29,
   "metadata": {
    "collapsed": true
   },
   "outputs": [],
   "source": [
    "rdf=pd.DataFrame(results)"
   ]
  },
  {
   "cell_type": "code",
   "execution_count": 68,
   "metadata": {
    "collapsed": false
   },
   "outputs": [
    {
     "data": {
      "image/png": "[encoded data removed]",
      "text/plain": [
       "<matplotlib.figure.Figure at 0x2f2c6b18e10>"
      ]
     },
     "metadata": {},
     "output_type": "display_data"
    }
   ],
   "source": [
    "plt.rcParams[\"figure.figsize\"] = [16,9]\n",
    "fig = plt.figure()\n",
    "\n",
    "ax1 = fig.add_subplot(111)\n",
    "ax2 = ax1.twinx()\n",
    "rdf['factors'] = rdf['factors'].astype(str)\n",
    "pivoted = pd.pivot_table(rdf, values='acc', columns='kind', index='factors')\n",
    "pivoted2 = pd.pivot_table(rdf, values='f1', columns='kind', index='factors')\n",
    "# the ax keyword sets the axis that the data frame plots to\n",
    "pivoted.plot(ax=ax1, legend=True)\n",
    "\n",
    "pivoted2.plot(ax=ax2, legend=False,style=['--','--','--','--','--','--'])\n",
    "ax2\n",
    "ax1.set_ylabel('Accuracy')\n",
    "ax2.set_ylabel('F1-measure')\n",
    "plt.show()\n"
   ]
  },
  {
   "cell_type": "code",
   "execution_count": 5,
   "metadata": {
    "collapsed": false
   },
   "outputs": [],
   "source": [
    "train = pd.read_csv(TRAIN_FILE)\n",
    "test = pd.read_csv(TEST_FILE)"
   ]
  },
  {
   "cell_type": "markdown",
   "metadata": {},
   "source": [
    "# Grid search Logistic regression"
   ]
  },
  {
   "cell_type": "code",
   "execution_count": 14,
   "metadata": {
    "collapsed": true
   },
   "outputs": [
    {
     "name": "stdout",
     "output_type": "stream",
     "text": [
      "reduced_10.out\n",
      "accuracy mean 0.12915\n",
      "f1 mean 0.2165009019802939\n",
      "reduced_100.out\n"
     ]
    },
    {
     "name": "stderr",
     "output_type": "stream",
     "text": [
      "C:\\Program Files\\Anaconda2\\envs\\py35\\lib\\site-packages\\sklearn\\metrics\\classification.py:1137: UndefinedMetricWarning:\n",
      "\n",
      "F-score is ill-defined and being set to 0.0 in labels with no true samples.\n",
      "\n"
     ]
    },
    {
     "name": "stdout",
     "output_type": "stream",
     "text": [
      "accuracy mean 0.2732\n",
      "f1 mean 0.33810671446036156\n",
      "reduced_500.out\n",
      "accuracy mean 0.3893\n",
      "f1 mean 0.42577444680371346\n",
      "reduced_1000.out\n",
      "accuracy mean 0.4479\n",
      "f1 mean 0.47403338334016387\n",
      "reduced_2000.out\n",
      "accuracy mean 0.54845\n",
      "f1 mean 0.5612975093071036\n",
      "reduced_4000.out\n",
      "accuracy mean 0.71135\n",
      "f1 mean 0.7127614218186579\n",
      "reduced_6000.out\n",
      "accuracy mean 0.76585\n",
      "f1 mean 0.7654327651616434\n"
     ]
    }
   ],
   "source": [
    "\n",
    "\n",
    "\n",
    "\n",
    "res = []\n",
    "\n",
    "param_grid = {'C': [1, 10, 100, 1000], 'n_jobs':[-1],'class_weight': ['balanced',None],'penalty':['l2'], 'solver':['newton-cg']}\n",
    "\n",
    "filenames=['reduced_10.out','reduced_100.out','reduced_500.out','reduced_1000.out','reduced_2000.out','reduced_4000.out','reduced_6000.out']\n",
    "for fname in filenames:\n",
    "    #param_grid = {'C': [1, 10, 100, 1000], 'class_weight': ['balanced',None],'penalty':['l1','l2']}\n",
    "    pa=ParameterGrid(param_grid)\n",
    "    print(fname)\n",
    "    X_train=np.loadtxt(fname, delimiter=',')\n",
    "    X_train = X_train[:20000,:]\n",
    "    train.state = pd.Categorical(train.state)\n",
    "    Y_train= train.state.cat.codes\n",
    "\n",
    "    clf = RidgeClassifierCV(alphas=[1,0.1,0.01,0.001])\n",
    "    clf.fit(X_train, Y_train)\n",
    "    pred=clf.predict(X_train)\n",
    "#     ac.append(accuracy_score(pred, YT))\n",
    "#     f1.append(metrics.f1_score(pred, YT, average='weighted'))\n",
    "    print(\"accuracy mean {}\".format(accuracy_score(pred, Y_train)))\n",
    "    print(\"f1 mean {}\".format(metrics.f1_score(pred, Y_train, average='weighted')))\n",
    "    res.append({'file':fname,'model':clf,'acc':accuracy_score(pred, Y_train),'f1':metrics.f1_score(pred, Y_train, average='weighted')})\n"
   ]
  },
  {
   "cell_type": "code",
   "execution_count": 32,
   "metadata": {
    "collapsed": true
   },
   "outputs": [
    {
     "name": "stdout",
     "output_type": "stream",
     "text": [
      "reduced_10.out\n"
     ]
    },
    {
     "name": "stderr",
     "output_type": "stream",
     "text": [
      "C:\\Program Files\\Anaconda2\\envs\\py35\\lib\\site-packages\\sklearn\\model_selection\\_split.py:597: Warning:\n",
      "\n",
      "The least populated class in y has only 33 members, which is too few. The minimum number of members in any class cannot be less than n_splits=50.\n",
      "\n",
      "C:\\Program Files\\Anaconda2\\envs\\py35\\lib\\site-packages\\sklearn\\metrics\\classification.py:1137: UndefinedMetricWarning:\n",
      "\n",
      "F-score is ill-defined and being set to 0.0 in labels with no true samples.\n",
      "\n"
     ]
    },
    {
     "name": "stdout",
     "output_type": "stream",
     "text": [
      "accuracy mean 0.12882051320418259\n",
      "f1 mean 0.21599871917654703\n",
      "reduced_100.out\n",
      "accuracy mean 0.26637133490315573\n",
      "f1 mean 0.3333014378018308\n",
      "reduced_500.out\n",
      "accuracy mean 0.34896023160163203\n",
      "f1 mean 0.3928837039945371\n",
      "reduced_1000.out\n",
      "accuracy mean 0.364163340950943\n",
      "f1 mean 0.40201649165379116\n",
      "reduced_2000.out\n",
      "accuracy mean 0.36560335157535157\n",
      "f1 mean 0.39971049402132125\n",
      "reduced_4000.out\n",
      "accuracy mean 0.35324412979171455\n",
      "f1 mean 0.38487901396062035\n",
      "reduced_6000.out\n"
     ]
    },
    {
     "name": "stderr",
     "output_type": "stream",
     "text": [
      "C:\\Program Files\\Anaconda2\\envs\\py35\\lib\\site-packages\\sklearn\\metrics\\classification.py:1135: UndefinedMetricWarning:\n",
      "\n",
      "F-score is ill-defined and being set to 0.0 in labels with no predicted samples.\n",
      "\n"
     ]
    },
    {
     "name": "stdout",
     "output_type": "stream",
     "text": [
      "accuracy mean 0.3469380755157645\n",
      "f1 mean 0.3778404818450474\n"
     ]
    }
   ],
   "source": [
    "\n",
    "filenames=['reduced_10.out','reduced_100.out','reduced_500.out','reduced_1000.out','reduced_2000.out','reduced_4000.out','reduced_6000.out']\n",
    "for fname in filenames:\n",
    "    print(fname)\n",
    "    X_train=np.loadtxt(fname, delimiter=',')\n",
    "    X_train = X_train[:20000,:]\n",
    "    train.state = pd.Categorical(train.state)\n",
    "    Y_train= train.state.cat.codes\n",
    "    n_folds=50\n",
    "    kf = StratifiedKFold(n_splits=50)#KFold(n_splits=n_folds,random_state=11)\n",
    "    ac = []\n",
    "    f1 = []\n",
    "    for train_index, valid_index in kf.split(X_train,Y_train):\n",
    "\n",
    "        X, XT = X_train[train_index], X_train[valid_index]\n",
    "        Y, YT = Y_train[train_index], Y_train[valid_index]\n",
    "\n",
    "        clf = RidgeClassifier()\n",
    "        clf.fit(X, Y)\n",
    "        pred=clf.predict(XT)\n",
    "        ac.append(accuracy_score(pred, YT))\n",
    "        f1.append(metrics.f1_score(pred, YT, average='weighted'))\n",
    "    print(\"accuracy mean {}\".format(np.average(ac)))\n",
    "    print(\"f1 mean {}\".format(np.average(f1)))"
   ]
  },
  {
   "cell_type": "markdown",
   "metadata": {},
   "source": [
    "## Test oversamplig downsampling"
   ]
  },
  {
   "cell_type": "code",
   "execution_count": 45,
   "metadata": {
    "collapsed": true
   },
   "outputs": [
    {
     "name": "stdout",
     "output_type": "stream",
     "text": [
      "reduced_500.out\n"
     ]
    },
    {
     "name": "stderr",
     "output_type": "stream",
     "text": [
      "C:\\Program Files\\Anaconda2\\envs\\py35\\lib\\site-packages\\sklearn\\metrics\\classification.py:1137: UndefinedMetricWarning:\n",
      "\n",
      "F-score is ill-defined and being set to 0.0 in labels with no true samples.\n",
      "\n",
      "C:\\Program Files\\Anaconda2\\envs\\py35\\lib\\site-packages\\sklearn\\metrics\\classification.py:1137: UndefinedMetricWarning:\n",
      "\n",
      "F-score is ill-defined and being set to 0.0 in labels with no true samples.\n",
      "\n",
      "C:\\Program Files\\Anaconda2\\envs\\py35\\lib\\site-packages\\sklearn\\metrics\\classification.py:1137: UndefinedMetricWarning:\n",
      "\n",
      "F-score is ill-defined and being set to 0.0 in labels with no true samples.\n",
      "\n",
      "C:\\Program Files\\Anaconda2\\envs\\py35\\lib\\site-packages\\sklearn\\metrics\\classification.py:1137: UndefinedMetricWarning:\n",
      "\n",
      "F-score is ill-defined and being set to 0.0 in labels with no true samples.\n",
      "\n",
      "C:\\Program Files\\Anaconda2\\envs\\py35\\lib\\site-packages\\sklearn\\metrics\\classification.py:1137: UndefinedMetricWarning:\n",
      "\n",
      "F-score is ill-defined and being set to 0.0 in labels with no true samples.\n",
      "\n",
      "C:\\Program Files\\Anaconda2\\envs\\py35\\lib\\site-packages\\sklearn\\metrics\\classification.py:1137: UndefinedMetricWarning:\n",
      "\n",
      "F-score is ill-defined and being set to 0.0 in labels with no true samples.\n",
      "\n",
      "C:\\Program Files\\Anaconda2\\envs\\py35\\lib\\site-packages\\sklearn\\metrics\\classification.py:1137: UndefinedMetricWarning:\n",
      "\n",
      "F-score is ill-defined and being set to 0.0 in labels with no true samples.\n",
      "\n"
     ]
    },
    {
     "name": "stdout",
     "output_type": "stream",
     "text": [
      "accuracy mean 0.27100077243967485\n",
      "f1 mean 0.2221468770530078\n",
      "reduced_1000.out\n"
     ]
    },
    {
     "name": "stderr",
     "output_type": "stream",
     "text": [
      "C:\\Program Files\\Anaconda2\\envs\\py35\\lib\\site-packages\\sklearn\\metrics\\classification.py:1137: UndefinedMetricWarning:\n",
      "\n",
      "F-score is ill-defined and being set to 0.0 in labels with no true samples.\n",
      "\n",
      "C:\\Program Files\\Anaconda2\\envs\\py35\\lib\\site-packages\\sklearn\\metrics\\classification.py:1137: UndefinedMetricWarning:\n",
      "\n",
      "F-score is ill-defined and being set to 0.0 in labels with no true samples.\n",
      "\n",
      "C:\\Program Files\\Anaconda2\\envs\\py35\\lib\\site-packages\\sklearn\\metrics\\classification.py:1137: UndefinedMetricWarning:\n",
      "\n",
      "F-score is ill-defined and being set to 0.0 in labels with no true samples.\n",
      "\n"
     ]
    },
    {
     "name": "stdout",
     "output_type": "stream",
     "text": [
      "accuracy mean 0.2779606141289537\n",
      "f1 mean 0.22349631313112917\n",
      "reduced_2000.out\n"
     ]
    },
    {
     "ename": "KeyboardInterrupt",
     "evalue": "",
     "output_type": "error",
     "traceback": [
      "\u001b[0;31m---------------------------------------------------------------------------\u001b[0m",
      "\u001b[0;31mKeyboardInterrupt\u001b[0m                         Traceback (most recent call last)",
      "\u001b[0;32m<ipython-input-45-3e1a0c70d271>\u001b[0m in \u001b[0;36m<module>\u001b[0;34m()\u001b[0m\n\u001b[1;32m     34\u001b[0m \u001b[1;33m\u001b[0m\u001b[0m\n\u001b[1;32m     35\u001b[0m         \u001b[0mros\u001b[0m \u001b[1;33m=\u001b[0m \u001b[0mRandomOverSampler\u001b[0m\u001b[1;33m(\u001b[0m\u001b[1;33m)\u001b[0m\u001b[1;33m\u001b[0m\u001b[0m\n\u001b[0;32m---> 36\u001b[0;31m         \u001b[0mX\u001b[0m\u001b[1;33m,\u001b[0m \u001b[0mY\u001b[0m \u001b[1;33m=\u001b[0m \u001b[0mros\u001b[0m\u001b[1;33m.\u001b[0m\u001b[0mfit_sample\u001b[0m\u001b[1;33m(\u001b[0m\u001b[0mX\u001b[0m\u001b[1;33m,\u001b[0m \u001b[0mY\u001b[0m\u001b[1;33m)\u001b[0m\u001b[1;33m\u001b[0m\u001b[0m\n\u001b[0m\u001b[1;32m     37\u001b[0m \u001b[1;33m\u001b[0m\u001b[0m\n\u001b[1;32m     38\u001b[0m \u001b[1;33m\u001b[0m\u001b[0m\n",
      "\u001b[0;32mC:\\Program Files\\Anaconda2\\envs\\py35\\lib\\site-packages\\imblearn\\base.py\u001b[0m in \u001b[0;36mfit_sample\u001b[0;34m(self, X, y)\u001b[0m\n\u001b[1;32m     84\u001b[0m         \"\"\"\n\u001b[1;32m     85\u001b[0m \u001b[1;33m\u001b[0m\u001b[0m\n\u001b[0;32m---> 86\u001b[0;31m         \u001b[1;32mreturn\u001b[0m \u001b[0mself\u001b[0m\u001b[1;33m.\u001b[0m\u001b[0mfit\u001b[0m\u001b[1;33m(\u001b[0m\u001b[0mX\u001b[0m\u001b[1;33m,\u001b[0m \u001b[0my\u001b[0m\u001b[1;33m)\u001b[0m\u001b[1;33m.\u001b[0m\u001b[0msample\u001b[0m\u001b[1;33m(\u001b[0m\u001b[0mX\u001b[0m\u001b[1;33m,\u001b[0m \u001b[0my\u001b[0m\u001b[1;33m)\u001b[0m\u001b[1;33m\u001b[0m\u001b[0m\n\u001b[0m\u001b[1;32m     87\u001b[0m \u001b[1;33m\u001b[0m\u001b[0m\n\u001b[1;32m     88\u001b[0m     \u001b[1;33m@\u001b[0m\u001b[0mabstractmethod\u001b[0m\u001b[1;33m\u001b[0m\u001b[0m\n",
      "\u001b[0;32mC:\\Program Files\\Anaconda2\\envs\\py35\\lib\\site-packages\\imblearn\\base.py\u001b[0m in \u001b[0;36msample\u001b[0;34m(self, X, y)\u001b[0m\n\u001b[1;32m     61\u001b[0m         \u001b[0mself\u001b[0m\u001b[1;33m.\u001b[0m\u001b[0m_check_X_y\u001b[0m\u001b[1;33m(\u001b[0m\u001b[0mX\u001b[0m\u001b[1;33m,\u001b[0m \u001b[0my\u001b[0m\u001b[1;33m)\u001b[0m\u001b[1;33m\u001b[0m\u001b[0m\n\u001b[1;32m     62\u001b[0m \u001b[1;33m\u001b[0m\u001b[0m\n\u001b[0;32m---> 63\u001b[0;31m         \u001b[1;32mreturn\u001b[0m \u001b[0mself\u001b[0m\u001b[1;33m.\u001b[0m\u001b[0m_sample\u001b[0m\u001b[1;33m(\u001b[0m\u001b[0mX\u001b[0m\u001b[1;33m,\u001b[0m \u001b[0my\u001b[0m\u001b[1;33m)\u001b[0m\u001b[1;33m\u001b[0m\u001b[0m\n\u001b[0m\u001b[1;32m     64\u001b[0m \u001b[1;33m\u001b[0m\u001b[0m\n\u001b[1;32m     65\u001b[0m     \u001b[1;32mdef\u001b[0m \u001b[0mfit_sample\u001b[0m\u001b[1;33m(\u001b[0m\u001b[0mself\u001b[0m\u001b[1;33m,\u001b[0m \u001b[0mX\u001b[0m\u001b[1;33m,\u001b[0m \u001b[0my\u001b[0m\u001b[1;33m)\u001b[0m\u001b[1;33m:\u001b[0m\u001b[1;33m\u001b[0m\u001b[0m\n",
      "\u001b[0;32mC:\\Program Files\\Anaconda2\\envs\\py35\\lib\\site-packages\\imblearn\\over_sampling\\random_over_sampler.py\u001b[0m in \u001b[0;36m_sample\u001b[0;34m(self, X, y)\u001b[0m\n\u001b[1;32m    112\u001b[0m             X_resampled = np.concatenate((X_resampled,\n\u001b[1;32m    113\u001b[0m                                           X[y == class_sample][index_samples]),\n\u001b[0;32m--> 114\u001b[0;31m                                          axis=0)\n\u001b[0m\u001b[1;32m    115\u001b[0m \u001b[1;33m\u001b[0m\u001b[0m\n\u001b[1;32m    116\u001b[0m             y_resampled = np.concatenate((y_resampled,\n",
      "\u001b[0;31mKeyboardInterrupt\u001b[0m: "
     ]
    }
   ],
   "source": [
    "from sklearn.linear_model import RidgeClassifier\n",
    "from sklearn.model_selection import StratifiedKFold\n",
    "from sklearn.utils import shuffle\n",
    "\n",
    "filenames=['reduced_500.out','reduced_1000.out','reduced_2000.out']\n",
    "for fname in filenames:\n",
    "    print(fname)\n",
    "    X_train=np.loadtxt(fname, delimiter=',')\n",
    "    X_train = X_train[:20000,:]\n",
    "    train.state = pd.Categorical(train.state)\n",
    "    Y_train= train.state.cat.codes\n",
    "    n_folds=33\n",
    "    kf = StratifiedKFold(n_splits=n_folds)#KFold(n_splits=n_folds,random_state=11)\n",
    "    ac = []\n",
    "    f1 = []\n",
    "    for train_index, valid_index in kf.split(X_train,Y_train):\n",
    "\n",
    "        X, XT = X_train[train_index], X_train[valid_index]\n",
    "        Y, YT = Y_train[train_index], Y_train[valid_index]\n",
    "        \n",
    "        undersample_classes={i:1500 for i in Y_train[train_index].value_counts()[Y_train[train_index].value_counts()>1500].index}\n",
    "        oversample_classes={i:100 for i in Y_train[train_index].value_counts()[Y_train[train_index].value_counts()<100].index}\n",
    "\n",
    "#         ros = RandomOverSampler(ratio=oversample_classes)\n",
    "        ros = SMOTE(random_state=42,ratio=oversample_classes)\n",
    "        X, Y = ros.fit_sample(X, Y)\n",
    "        \n",
    "#         print (X.shape)\n",
    "    \n",
    "        #rus  = RandomUnderSampler(ratio=undersample_classes)\n",
    "        #X, Y = rus.fit_sample(X, Y)\n",
    "        \n",
    "#         print (X.shape)\n",
    "        \n",
    "        ros = RandomOverSampler()\n",
    "        X, Y = ros.fit_sample(X, Y)\n",
    "        \n",
    "        \n",
    "        X, Y = shuffle(X, Y)\n",
    "        \n",
    "#         print (X.shape)\n",
    "        \n",
    "        clf = RidgeClassifier()\n",
    "        clf.fit(X, Y)\n",
    "        pred=clf.predict(XT)\n",
    "#         print (accuracy_score(pred, YT))\n",
    "        ac.append(accuracy_score(pred, YT))\n",
    "        f1.append(metrics.f1_score(pred, YT, average='weighted'))\n",
    "    print(\"accuracy mean {}\".format(np.average(ac)))\n",
    "    print(\"f1 mean {}\".format(np.average(f1)))"
   ]
  },
  {
   "cell_type": "markdown",
   "metadata": {},
   "source": [
    "# best model predict"
   ]
  },
  {
   "cell_type": "code",
   "execution_count": 52,
   "metadata": {
    "collapsed": false
   },
   "outputs": [
    {
     "name": "stdout",
     "output_type": "stream",
     "text": [
      "reduced_1000.out\n"
     ]
    }
   ],
   "source": [
    "from sklearn.linear_model import RidgeClassifier\n",
    "from sklearn.model_selection import StratifiedKFold\n",
    "fname='reduced_1000.out'\n",
    "\n",
    "print(fname)\n",
    "data=np.loadtxt(fname, delimiter=',')\n",
    "X_train = data[:20000,:]\n",
    "X_test = data[20000:,:]\n",
    "train.state = pd.Categorical(train.state)\n",
    "Y_train= train.state.cat.codes\n",
    "\n",
    "clf = RidgeClassifier()\n",
    "clf.fit(X_train, Y_train)\n",
    "pred=clf.predict(X_test)\n"
   ]
  },
  {
   "cell_type": "code",
   "execution_count": 65,
   "metadata": {
    "collapsed": false
   },
   "outputs": [],
   "source": [
    "import csv\n",
    "\n",
    "start=20001\n",
    "\n",
    "mapping_states = dict( enumerate(train.state.cat.categories) )\n",
    "with open('prediction.csv','w',newline=\"\") as outfile:\n",
    "    writer = csv.writer(outfile)\n",
    "    for i,p in enumerate(pred):\n",
    "#         print (i,p)\n",
    "        writer.writerow([i+start,mapping_states[p]])\n",
    "\n"
   ]
  },
  {
   "cell_type": "code",
   "execution_count": null,
   "metadata": {
    "collapsed": true
   },
   "outputs": [],
   "source": []
  },
  {
   "cell_type": "code",
   "execution_count": null,
   "metadata": {
    "collapsed": true
   },
   "outputs": [],
   "source": []
  },
  {
   "cell_type": "code",
   "execution_count": null,
   "metadata": {
    "collapsed": true
   },
   "outputs": [],
   "source": []
  },
  {
   "cell_type": "markdown",
   "metadata": {},
   "source": [
    "# Test LinearDiscriminantAnalysis"
   ]
  },
  {
   "cell_type": "code",
   "execution_count": null,
   "metadata": {
    "collapsed": true
   },
   "outputs": [
    {
     "name": "stdout",
     "output_type": "stream",
     "text": [
      "reduced_10.out\n"
     ]
    },
    {
     "name": "stderr",
     "output_type": "stream",
     "text": [
      "C:\\Program Files\\Anaconda2\\envs\\py35\\lib\\site-packages\\sklearn\\metrics\\classification.py:1137: UndefinedMetricWarning:\n",
      "\n",
      "F-score is ill-defined and being set to 0.0 in labels with no true samples.\n",
      "\n",
      "C:\\Program Files\\Anaconda2\\envs\\py35\\lib\\site-packages\\sklearn\\discriminant_analysis.py:442: UserWarning:\n",
      "\n",
      "The priors do not sum to 1. Renormalizing\n",
      "\n"
     ]
    },
    {
     "name": "stdout",
     "output_type": "stream",
     "text": [
      "accuracy mean 0.1286\n",
      "f1 mean 0.21073342149257068\n",
      "reduced_100.out\n"
     ]
    },
    {
     "name": "stderr",
     "output_type": "stream",
     "text": [
      "C:\\Program Files\\Anaconda2\\envs\\py35\\lib\\site-packages\\sklearn\\metrics\\classification.py:1135: UndefinedMetricWarning:\n",
      "\n",
      "F-score is ill-defined and being set to 0.0 in labels with no predicted samples.\n",
      "\n"
     ]
    },
    {
     "name": "stdout",
     "output_type": "stream",
     "text": [
      "accuracy mean 0.2693333333333333\n",
      "f1 mean 0.28975711916905317\n",
      "reduced_500.out\n",
      "accuracy mean 0.33314814814814814\n",
      "f1 mean 0.32760031085847485\n",
      "reduced_1000.out\n",
      "accuracy mean 0.3356652949245542\n",
      "f1 mean 0.3321751672248108\n",
      "reduced_2000.out\n",
      "accuracy mean 0.3231210409971579\n",
      "f1 mean 0.32572806717929687\n",
      "reduced_4000.out\n",
      "accuracy mean 0.2842506350550381\n",
      "f1 mean 0.29303144977502166\n",
      "reduced_6000.out\n"
     ]
    }
   ],
   "source": [
    "from sklearn.discriminant_analysis import LinearDiscriminantAnalysis\n",
    "\n",
    "filenames=['reduced_10.out','reduced_100.out','reduced_500.out','reduced_1000.out','reduced_2000.out','reduced_4000.out','reduced_6000.out']\n",
    "for fname in filenames:\n",
    "    print(fname)\n",
    "    X_train=np.loadtxt(fname, delimiter=',')\n",
    "    X_train = X_train[:20000,:]\n",
    "    train.state = pd.Categorical(train.state)\n",
    "    Y_train= train.state.cat.codes\n",
    "    n_folds=10\n",
    "    kf = KFold(n_splits=n_folds,random_state=11)\n",
    "    ac = []\n",
    "    f1 = []\n",
    "    for train_index, valid_index in kf.split(X_train):\n",
    "\n",
    "        X, XT = X_train[train_index], X_train[valid_index]\n",
    "        Y, YT = Y_train[train_index], Y_train[valid_index]\n",
    "\n",
    "        clf = clf = LinearDiscriminantAnalysis()\n",
    "        clf.fit(X, Y)\n",
    "        pred=clf.predict(XT)\n",
    "        ac.append(accuracy_score(pred, YT))\n",
    "        f1.append(metrics.f1_score(pred, YT, average='weighted'))\n",
    "    print(\"accuracy mean {}\".format(np.average(ac)))\n",
    "    print(\"f1 mean {}\".format(np.average(f1)))"
   ]
  },
  {
   "cell_type": "markdown",
   "metadata": {},
   "source": [
    "# Test BernoulliNB"
   ]
  },
  {
   "cell_type": "code",
   "execution_count": 25,
   "metadata": {
    "collapsed": true
   },
   "outputs": [
    {
     "name": "stderr",
     "output_type": "stream",
     "text": [
      "C:\\Program Files\\Anaconda2\\envs\\py35\\lib\\site-packages\\sklearn\\metrics\\classification.py:1137: UndefinedMetricWarning:\n",
      "\n",
      "F-score is ill-defined and being set to 0.0 in labels with no true samples.\n",
      "\n"
     ]
    },
    {
     "name": "stdout",
     "output_type": "stream",
     "text": [
      "accuracy mean 0.12645\n",
      "f1 mean 0.21011156830580946\n",
      "accuracy mean 0.2547\n",
      "f1 mean 0.28727050818930155\n"
     ]
    },
    {
     "name": "stderr",
     "output_type": "stream",
     "text": [
      "C:\\Program Files\\Anaconda2\\envs\\py35\\lib\\site-packages\\sklearn\\metrics\\classification.py:1135: UndefinedMetricWarning:\n",
      "\n",
      "F-score is ill-defined and being set to 0.0 in labels with no predicted samples.\n",
      "\n"
     ]
    },
    {
     "name": "stdout",
     "output_type": "stream",
     "text": [
      "accuracy mean 0.31650000000000006\n",
      "f1 mean 0.3192703910150568\n",
      "accuracy mean 0.32034999999999997\n",
      "f1 mean 0.3264149792525196\n",
      "accuracy mean 0.3183\n",
      "f1 mean 0.3306926417516257\n",
      "accuracy mean 0.28905000000000003\n",
      "f1 mean 0.30743640822712653\n",
      "accuracy mean 0.27435\n",
      "f1 mean 0.29537615584856936\n"
     ]
    }
   ],
   "source": [
    "\n",
    "\n",
    "filenames=['reduced_10.out','reduced_100.out','reduced_500.out','reduced_1000.out','reduced_2000.out','reduced_4000.out','reduced_6000.out']\n",
    "for fname in filenames:\n",
    "    X_train=np.loadtxt(fname, delimiter=',')\n",
    "    X_train = X_train[:20000,:]\n",
    "    train.state = pd.Categorical(train.state)\n",
    "    Y_train= train.state.cat.codes\n",
    "    n_folds=10\n",
    "    kf = KFold(n_splits=n_folds,random_state=11)\n",
    "    ac = []\n",
    "    f1 = []\n",
    "    for train_index, valid_index in kf.split(X_train):\n",
    "\n",
    "        X, XT = X_train[train_index], X_train[valid_index]\n",
    "        Y, YT = Y_train[train_index], Y_train[valid_index]\n",
    "\n",
    "        clf = BernoulliNB()\n",
    "        clf.fit(X, Y)\n",
    "        pred=clf.predict(XT)\n",
    "        ac.append(accuracy_score(pred, YT))\n",
    "        f1.append(metrics.f1_score(pred, YT, average='weighted'))\n",
    "    print(\"accuracy mean {}\".format(np.average(ac)))\n",
    "    print(\"f1 mean {}\".format(np.average(f1)))"
   ]
  },
  {
   "cell_type": "markdown",
   "metadata": {},
   "source": [
    "# Test LinearSVC"
   ]
  },
  {
   "cell_type": "code",
   "execution_count": 11,
   "metadata": {
    "collapsed": true
   },
   "outputs": [
    {
     "name": "stdout",
     "output_type": "stream",
     "text": [
      "reduced_10.out\n"
     ]
    },
    {
     "name": "stderr",
     "output_type": "stream",
     "text": [
      "C:\\Program Files\\Anaconda2\\envs\\py35\\lib\\site-packages\\sklearn\\metrics\\classification.py:1137: UndefinedMetricWarning:\n",
      "\n",
      "F-score is ill-defined and being set to 0.0 in labels with no true samples.\n",
      "\n"
     ]
    },
    {
     "name": "stdout",
     "output_type": "stream",
     "text": [
      "accuracy mean 0.1287\n",
      "f1 mean 0.21528337473384895\n",
      "reduced_100.out\n",
      "accuracy mean 0.2818\n",
      "f1 mean 0.3451960184748698\n",
      "reduced_500.out\n"
     ]
    },
    {
     "name": "stderr",
     "output_type": "stream",
     "text": [
      "C:\\Program Files\\Anaconda2\\envs\\py35\\lib\\site-packages\\sklearn\\metrics\\classification.py:1135: UndefinedMetricWarning:\n",
      "\n",
      "F-score is ill-defined and being set to 0.0 in labels with no predicted samples.\n",
      "\n"
     ]
    },
    {
     "name": "stdout",
     "output_type": "stream",
     "text": [
      "accuracy mean 0.34865\n",
      "f1 mean 0.37341695223211196\n",
      "reduced_1000.out\n",
      "accuracy mean 0.32935000000000003\n",
      "f1 mean 0.34341797168187777\n",
      "reduced_2000.out\n",
      "accuracy mean 0.30505\n",
      "f1 mean 0.3152733416444436\n",
      "reduced_4000.out\n"
     ]
    },
    {
     "ename": "KeyboardInterrupt",
     "evalue": "",
     "output_type": "error",
     "traceback": [
      "\u001b[0;31m---------------------------------------------------------------------------\u001b[0m",
      "\u001b[0;31mKeyboardInterrupt\u001b[0m                         Traceback (most recent call last)",
      "\u001b[0;32m<ipython-input-11-4896ab7f462b>\u001b[0m in \u001b[0;36m<module>\u001b[0;34m()\u001b[0m\n\u001b[1;32m     18\u001b[0m \u001b[1;33m\u001b[0m\u001b[0m\n\u001b[1;32m     19\u001b[0m         \u001b[0mclf\u001b[0m \u001b[1;33m=\u001b[0m \u001b[0msvm\u001b[0m\u001b[1;33m.\u001b[0m\u001b[0mLinearSVC\u001b[0m\u001b[1;33m(\u001b[0m\u001b[1;33m)\u001b[0m\u001b[1;33m\u001b[0m\u001b[0m\n\u001b[0;32m---> 20\u001b[0;31m         \u001b[0mclf\u001b[0m\u001b[1;33m.\u001b[0m\u001b[0mfit\u001b[0m\u001b[1;33m(\u001b[0m\u001b[0mX\u001b[0m\u001b[1;33m,\u001b[0m \u001b[0mY\u001b[0m\u001b[1;33m)\u001b[0m\u001b[1;33m\u001b[0m\u001b[0m\n\u001b[0m\u001b[1;32m     21\u001b[0m         \u001b[0mpred\u001b[0m\u001b[1;33m=\u001b[0m\u001b[0mclf\u001b[0m\u001b[1;33m.\u001b[0m\u001b[0mpredict\u001b[0m\u001b[1;33m(\u001b[0m\u001b[0mXT\u001b[0m\u001b[1;33m)\u001b[0m\u001b[1;33m\u001b[0m\u001b[0m\n\u001b[1;32m     22\u001b[0m         \u001b[0mac\u001b[0m\u001b[1;33m.\u001b[0m\u001b[0mappend\u001b[0m\u001b[1;33m(\u001b[0m\u001b[0maccuracy_score\u001b[0m\u001b[1;33m(\u001b[0m\u001b[0mpred\u001b[0m\u001b[1;33m,\u001b[0m \u001b[0mYT\u001b[0m\u001b[1;33m)\u001b[0m\u001b[1;33m)\u001b[0m\u001b[1;33m\u001b[0m\u001b[0m\n",
      "\u001b[0;32mC:\\Program Files\\Anaconda2\\envs\\py35\\lib\\site-packages\\sklearn\\svm\\classes.py\u001b[0m in \u001b[0;36mfit\u001b[0;34m(self, X, y, sample_weight)\u001b[0m\n\u001b[1;32m    233\u001b[0m             \u001b[0mself\u001b[0m\u001b[1;33m.\u001b[0m\u001b[0mclass_weight\u001b[0m\u001b[1;33m,\u001b[0m \u001b[0mself\u001b[0m\u001b[1;33m.\u001b[0m\u001b[0mpenalty\u001b[0m\u001b[1;33m,\u001b[0m \u001b[0mself\u001b[0m\u001b[1;33m.\u001b[0m\u001b[0mdual\u001b[0m\u001b[1;33m,\u001b[0m \u001b[0mself\u001b[0m\u001b[1;33m.\u001b[0m\u001b[0mverbose\u001b[0m\u001b[1;33m,\u001b[0m\u001b[1;33m\u001b[0m\u001b[0m\n\u001b[1;32m    234\u001b[0m             \u001b[0mself\u001b[0m\u001b[1;33m.\u001b[0m\u001b[0mmax_iter\u001b[0m\u001b[1;33m,\u001b[0m \u001b[0mself\u001b[0m\u001b[1;33m.\u001b[0m\u001b[0mtol\u001b[0m\u001b[1;33m,\u001b[0m \u001b[0mself\u001b[0m\u001b[1;33m.\u001b[0m\u001b[0mrandom_state\u001b[0m\u001b[1;33m,\u001b[0m \u001b[0mself\u001b[0m\u001b[1;33m.\u001b[0m\u001b[0mmulti_class\u001b[0m\u001b[1;33m,\u001b[0m\u001b[1;33m\u001b[0m\u001b[0m\n\u001b[0;32m--> 235\u001b[0;31m             self.loss, sample_weight=sample_weight)\n\u001b[0m\u001b[1;32m    236\u001b[0m \u001b[1;33m\u001b[0m\u001b[0m\n\u001b[1;32m    237\u001b[0m         \u001b[1;32mif\u001b[0m \u001b[0mself\u001b[0m\u001b[1;33m.\u001b[0m\u001b[0mmulti_class\u001b[0m \u001b[1;33m==\u001b[0m \u001b[1;34m\"crammer_singer\"\u001b[0m \u001b[1;32mand\u001b[0m \u001b[0mlen\u001b[0m\u001b[1;33m(\u001b[0m\u001b[0mself\u001b[0m\u001b[1;33m.\u001b[0m\u001b[0mclasses_\u001b[0m\u001b[1;33m)\u001b[0m \u001b[1;33m==\u001b[0m \u001b[1;36m2\u001b[0m\u001b[1;33m:\u001b[0m\u001b[1;33m\u001b[0m\u001b[0m\n",
      "\u001b[0;32mC:\\Program Files\\Anaconda2\\envs\\py35\\lib\\site-packages\\sklearn\\svm\\base.py\u001b[0m in \u001b[0;36m_fit_liblinear\u001b[0;34m(X, y, C, fit_intercept, intercept_scaling, class_weight, penalty, dual, verbose, max_iter, tol, random_state, multi_class, loss, epsilon, sample_weight)\u001b[0m\n\u001b[1;32m    888\u001b[0m         \u001b[0mX\u001b[0m\u001b[1;33m,\u001b[0m \u001b[0my_ind\u001b[0m\u001b[1;33m,\u001b[0m \u001b[0msp\u001b[0m\u001b[1;33m.\u001b[0m\u001b[0misspmatrix\u001b[0m\u001b[1;33m(\u001b[0m\u001b[0mX\u001b[0m\u001b[1;33m)\u001b[0m\u001b[1;33m,\u001b[0m \u001b[0msolver_type\u001b[0m\u001b[1;33m,\u001b[0m \u001b[0mtol\u001b[0m\u001b[1;33m,\u001b[0m \u001b[0mbias\u001b[0m\u001b[1;33m,\u001b[0m \u001b[0mC\u001b[0m\u001b[1;33m,\u001b[0m\u001b[1;33m\u001b[0m\u001b[0m\n\u001b[1;32m    889\u001b[0m         \u001b[0mclass_weight_\u001b[0m\u001b[1;33m,\u001b[0m \u001b[0mmax_iter\u001b[0m\u001b[1;33m,\u001b[0m \u001b[0mrnd\u001b[0m\u001b[1;33m.\u001b[0m\u001b[0mrandint\u001b[0m\u001b[1;33m(\u001b[0m\u001b[0mnp\u001b[0m\u001b[1;33m.\u001b[0m\u001b[0miinfo\u001b[0m\u001b[1;33m(\u001b[0m\u001b[1;34m'i'\u001b[0m\u001b[1;33m)\u001b[0m\u001b[1;33m.\u001b[0m\u001b[0mmax\u001b[0m\u001b[1;33m)\u001b[0m\u001b[1;33m,\u001b[0m\u001b[1;33m\u001b[0m\u001b[0m\n\u001b[0;32m--> 890\u001b[0;31m         epsilon, sample_weight)\n\u001b[0m\u001b[1;32m    891\u001b[0m     \u001b[1;31m# Regarding rnd.randint(..) in the above signature:\u001b[0m\u001b[1;33m\u001b[0m\u001b[1;33m\u001b[0m\u001b[0m\n\u001b[1;32m    892\u001b[0m     \u001b[1;31m# seed for srand in range [0..INT_MAX); due to limitations in Numpy\u001b[0m\u001b[1;33m\u001b[0m\u001b[1;33m\u001b[0m\u001b[0m\n",
      "\u001b[0;31mKeyboardInterrupt\u001b[0m: "
     ]
    }
   ],
   "source": [
    "from sklearn.discriminant_analysis import LinearDiscriminantAnalysis\n",
    "\n",
    "filenames=['reduced_10.out','reduced_100.out','reduced_500.out','reduced_1000.out','reduced_2000.out','reduced_4000.out','reduced_6000.out']\n",
    "for fname in filenames:\n",
    "    print(fname)\n",
    "    X_train=np.loadtxt(fname, delimiter=',')\n",
    "    X_train = X_train[:20000,:]\n",
    "    train.state = pd.Categorical(train.state)\n",
    "    Y_train= train.state.cat.codes\n",
    "    n_folds=10\n",
    "    kf = KFold(n_splits=n_folds,random_state=11)\n",
    "    ac = []\n",
    "    f1 = []\n",
    "    for train_index, valid_index in kf.split(X_train):\n",
    "\n",
    "        X, XT = X_train[train_index], X_train[valid_index]\n",
    "        Y, YT = Y_train[train_index], Y_train[valid_index]\n",
    "\n",
    "        clf = svm.LinearSVC()\n",
    "        clf.fit(X, Y)\n",
    "        pred=clf.predict(XT)\n",
    "        ac.append(accuracy_score(pred, YT))\n",
    "        f1.append(metrics.f1_score(pred, YT, average='weighted'))\n",
    "    print(\"accuracy mean {}\".format(np.average(ac)))\n",
    "    print(\"f1 mean {}\".format(np.average(f1)))"
   ]
  },
  {
   "cell_type": "markdown",
   "metadata": {},
   "source": [
    "# Test RandomForestClassifier"
   ]
  },
  {
   "cell_type": "code",
   "execution_count": 13,
   "metadata": {
    "collapsed": true
   },
   "outputs": [
    {
     "name": "stdout",
     "output_type": "stream",
     "text": [
      "reduced_10.out\n"
     ]
    },
    {
     "name": "stderr",
     "output_type": "stream",
     "text": [
      "C:\\Program Files\\Anaconda2\\envs\\py35\\lib\\site-packages\\sklearn\\metrics\\classification.py:1137: UndefinedMetricWarning:\n",
      "\n",
      "F-score is ill-defined and being set to 0.0 in labels with no true samples.\n",
      "\n",
      "C:\\Program Files\\Anaconda2\\envs\\py35\\lib\\site-packages\\sklearn\\metrics\\classification.py:1137: UndefinedMetricWarning:\n",
      "\n",
      "F-score is ill-defined and being set to 0.0 in labels with no true samples.\n",
      "\n",
      "C:\\Program Files\\Anaconda2\\envs\\py35\\lib\\site-packages\\sklearn\\metrics\\classification.py:1137: UndefinedMetricWarning:\n",
      "\n",
      "F-score is ill-defined and being set to 0.0 in labels with no true samples.\n",
      "\n",
      "C:\\Program Files\\Anaconda2\\envs\\py35\\lib\\site-packages\\sklearn\\metrics\\classification.py:1137: UndefinedMetricWarning:\n",
      "\n",
      "F-score is ill-defined and being set to 0.0 in labels with no true samples.\n",
      "\n",
      "C:\\Program Files\\Anaconda2\\envs\\py35\\lib\\site-packages\\sklearn\\metrics\\classification.py:1137: UndefinedMetricWarning:\n",
      "\n",
      "F-score is ill-defined and being set to 0.0 in labels with no true samples.\n",
      "\n",
      "C:\\Program Files\\Anaconda2\\envs\\py35\\lib\\site-packages\\sklearn\\metrics\\classification.py:1137: UndefinedMetricWarning:\n",
      "\n",
      "F-score is ill-defined and being set to 0.0 in labels with no true samples.\n",
      "\n",
      "C:\\Program Files\\Anaconda2\\envs\\py35\\lib\\site-packages\\sklearn\\metrics\\classification.py:1137: UndefinedMetricWarning:\n",
      "\n",
      "F-score is ill-defined and being set to 0.0 in labels with no true samples.\n",
      "\n",
      "C:\\Program Files\\Anaconda2\\envs\\py35\\lib\\site-packages\\sklearn\\metrics\\classification.py:1137: UndefinedMetricWarning:\n",
      "\n",
      "F-score is ill-defined and being set to 0.0 in labels with no true samples.\n",
      "\n"
     ]
    },
    {
     "name": "stdout",
     "output_type": "stream",
     "text": [
      "accuracy mean 0.08274999999999999\n",
      "f1 mean 0.10345457721154747\n",
      "reduced_100.out\n"
     ]
    },
    {
     "name": "stderr",
     "output_type": "stream",
     "text": [
      "C:\\Program Files\\Anaconda2\\envs\\py35\\lib\\site-packages\\sklearn\\metrics\\classification.py:1137: UndefinedMetricWarning:\n",
      "\n",
      "F-score is ill-defined and being set to 0.0 in labels with no true samples.\n",
      "\n",
      "C:\\Program Files\\Anaconda2\\envs\\py35\\lib\\site-packages\\sklearn\\metrics\\classification.py:1137: UndefinedMetricWarning:\n",
      "\n",
      "F-score is ill-defined and being set to 0.0 in labels with no true samples.\n",
      "\n",
      "C:\\Program Files\\Anaconda2\\envs\\py35\\lib\\site-packages\\sklearn\\metrics\\classification.py:1137: UndefinedMetricWarning:\n",
      "\n",
      "F-score is ill-defined and being set to 0.0 in labels with no true samples.\n",
      "\n",
      "C:\\Program Files\\Anaconda2\\envs\\py35\\lib\\site-packages\\sklearn\\metrics\\classification.py:1137: UndefinedMetricWarning:\n",
      "\n",
      "F-score is ill-defined and being set to 0.0 in labels with no true samples.\n",
      "\n",
      "C:\\Program Files\\Anaconda2\\envs\\py35\\lib\\site-packages\\sklearn\\metrics\\classification.py:1137: UndefinedMetricWarning:\n",
      "\n",
      "F-score is ill-defined and being set to 0.0 in labels with no true samples.\n",
      "\n",
      "C:\\Program Files\\Anaconda2\\envs\\py35\\lib\\site-packages\\sklearn\\metrics\\classification.py:1137: UndefinedMetricWarning:\n",
      "\n",
      "F-score is ill-defined and being set to 0.0 in labels with no true samples.\n",
      "\n",
      "C:\\Program Files\\Anaconda2\\envs\\py35\\lib\\site-packages\\sklearn\\metrics\\classification.py:1137: UndefinedMetricWarning:\n",
      "\n",
      "F-score is ill-defined and being set to 0.0 in labels with no true samples.\n",
      "\n",
      "C:\\Program Files\\Anaconda2\\envs\\py35\\lib\\site-packages\\sklearn\\metrics\\classification.py:1137: UndefinedMetricWarning:\n",
      "\n",
      "F-score is ill-defined and being set to 0.0 in labels with no true samples.\n",
      "\n",
      "C:\\Program Files\\Anaconda2\\envs\\py35\\lib\\site-packages\\sklearn\\metrics\\classification.py:1137: UndefinedMetricWarning:\n",
      "\n",
      "F-score is ill-defined and being set to 0.0 in labels with no true samples.\n",
      "\n",
      "C:\\Program Files\\Anaconda2\\envs\\py35\\lib\\site-packages\\sklearn\\metrics\\classification.py:1137: UndefinedMetricWarning:\n",
      "\n",
      "F-score is ill-defined and being set to 0.0 in labels with no true samples.\n",
      "\n"
     ]
    },
    {
     "name": "stdout",
     "output_type": "stream",
     "text": [
      "accuracy mean 0.1618\n",
      "f1 mean 0.18556044114421621\n",
      "reduced_500.out\n"
     ]
    },
    {
     "name": "stderr",
     "output_type": "stream",
     "text": [
      "C:\\Program Files\\Anaconda2\\envs\\py35\\lib\\site-packages\\sklearn\\metrics\\classification.py:1137: UndefinedMetricWarning:\n",
      "\n",
      "F-score is ill-defined and being set to 0.0 in labels with no true samples.\n",
      "\n",
      "C:\\Program Files\\Anaconda2\\envs\\py35\\lib\\site-packages\\sklearn\\metrics\\classification.py:1137: UndefinedMetricWarning:\n",
      "\n",
      "F-score is ill-defined and being set to 0.0 in labels with no true samples.\n",
      "\n",
      "C:\\Program Files\\Anaconda2\\envs\\py35\\lib\\site-packages\\sklearn\\metrics\\classification.py:1137: UndefinedMetricWarning:\n",
      "\n",
      "F-score is ill-defined and being set to 0.0 in labels with no true samples.\n",
      "\n",
      "C:\\Program Files\\Anaconda2\\envs\\py35\\lib\\site-packages\\sklearn\\metrics\\classification.py:1137: UndefinedMetricWarning:\n",
      "\n",
      "F-score is ill-defined and being set to 0.0 in labels with no true samples.\n",
      "\n",
      "C:\\Program Files\\Anaconda2\\envs\\py35\\lib\\site-packages\\sklearn\\metrics\\classification.py:1137: UndefinedMetricWarning:\n",
      "\n",
      "F-score is ill-defined and being set to 0.0 in labels with no true samples.\n",
      "\n",
      "C:\\Program Files\\Anaconda2\\envs\\py35\\lib\\site-packages\\sklearn\\metrics\\classification.py:1137: UndefinedMetricWarning:\n",
      "\n",
      "F-score is ill-defined and being set to 0.0 in labels with no true samples.\n",
      "\n",
      "C:\\Program Files\\Anaconda2\\envs\\py35\\lib\\site-packages\\sklearn\\metrics\\classification.py:1137: UndefinedMetricWarning:\n",
      "\n",
      "F-score is ill-defined and being set to 0.0 in labels with no true samples.\n",
      "\n",
      "C:\\Program Files\\Anaconda2\\envs\\py35\\lib\\site-packages\\sklearn\\metrics\\classification.py:1137: UndefinedMetricWarning:\n",
      "\n",
      "F-score is ill-defined and being set to 0.0 in labels with no true samples.\n",
      "\n",
      "C:\\Program Files\\Anaconda2\\envs\\py35\\lib\\site-packages\\sklearn\\metrics\\classification.py:1137: UndefinedMetricWarning:\n",
      "\n",
      "F-score is ill-defined and being set to 0.0 in labels with no true samples.\n",
      "\n",
      "C:\\Program Files\\Anaconda2\\envs\\py35\\lib\\site-packages\\sklearn\\metrics\\classification.py:1137: UndefinedMetricWarning:\n",
      "\n",
      "F-score is ill-defined and being set to 0.0 in labels with no true samples.\n",
      "\n"
     ]
    },
    {
     "name": "stdout",
     "output_type": "stream",
     "text": [
      "accuracy mean 0.14499999999999996\n",
      "f1 mean 0.16655636009818248\n",
      "reduced_1000.out\n"
     ]
    },
    {
     "name": "stderr",
     "output_type": "stream",
     "text": [
      "C:\\Program Files\\Anaconda2\\envs\\py35\\lib\\site-packages\\sklearn\\metrics\\classification.py:1137: UndefinedMetricWarning:\n",
      "\n",
      "F-score is ill-defined and being set to 0.0 in labels with no true samples.\n",
      "\n",
      "C:\\Program Files\\Anaconda2\\envs\\py35\\lib\\site-packages\\sklearn\\metrics\\classification.py:1137: UndefinedMetricWarning:\n",
      "\n",
      "F-score is ill-defined and being set to 0.0 in labels with no true samples.\n",
      "\n",
      "C:\\Program Files\\Anaconda2\\envs\\py35\\lib\\site-packages\\sklearn\\metrics\\classification.py:1137: UndefinedMetricWarning:\n",
      "\n",
      "F-score is ill-defined and being set to 0.0 in labels with no true samples.\n",
      "\n",
      "C:\\Program Files\\Anaconda2\\envs\\py35\\lib\\site-packages\\sklearn\\metrics\\classification.py:1137: UndefinedMetricWarning:\n",
      "\n",
      "F-score is ill-defined and being set to 0.0 in labels with no true samples.\n",
      "\n",
      "C:\\Program Files\\Anaconda2\\envs\\py35\\lib\\site-packages\\sklearn\\metrics\\classification.py:1137: UndefinedMetricWarning:\n",
      "\n",
      "F-score is ill-defined and being set to 0.0 in labels with no true samples.\n",
      "\n",
      "C:\\Program Files\\Anaconda2\\envs\\py35\\lib\\site-packages\\sklearn\\metrics\\classification.py:1137: UndefinedMetricWarning:\n",
      "\n",
      "F-score is ill-defined and being set to 0.0 in labels with no true samples.\n",
      "\n",
      "C:\\Program Files\\Anaconda2\\envs\\py35\\lib\\site-packages\\sklearn\\metrics\\classification.py:1137: UndefinedMetricWarning:\n",
      "\n",
      "F-score is ill-defined and being set to 0.0 in labels with no true samples.\n",
      "\n",
      "C:\\Program Files\\Anaconda2\\envs\\py35\\lib\\site-packages\\sklearn\\metrics\\classification.py:1137: UndefinedMetricWarning:\n",
      "\n",
      "F-score is ill-defined and being set to 0.0 in labels with no true samples.\n",
      "\n",
      "C:\\Program Files\\Anaconda2\\envs\\py35\\lib\\site-packages\\sklearn\\metrics\\classification.py:1137: UndefinedMetricWarning:\n",
      "\n",
      "F-score is ill-defined and being set to 0.0 in labels with no true samples.\n",
      "\n",
      "C:\\Program Files\\Anaconda2\\envs\\py35\\lib\\site-packages\\sklearn\\metrics\\classification.py:1137: UndefinedMetricWarning:\n",
      "\n",
      "F-score is ill-defined and being set to 0.0 in labels with no true samples.\n",
      "\n"
     ]
    },
    {
     "name": "stdout",
     "output_type": "stream",
     "text": [
      "accuracy mean 0.12745\n",
      "f1 mean 0.1493286825730839\n",
      "reduced_2000.out\n"
     ]
    },
    {
     "name": "stderr",
     "output_type": "stream",
     "text": [
      "C:\\Program Files\\Anaconda2\\envs\\py35\\lib\\site-packages\\sklearn\\metrics\\classification.py:1137: UndefinedMetricWarning:\n",
      "\n",
      "F-score is ill-defined and being set to 0.0 in labels with no true samples.\n",
      "\n",
      "C:\\Program Files\\Anaconda2\\envs\\py35\\lib\\site-packages\\sklearn\\metrics\\classification.py:1137: UndefinedMetricWarning:\n",
      "\n",
      "F-score is ill-defined and being set to 0.0 in labels with no true samples.\n",
      "\n",
      "C:\\Program Files\\Anaconda2\\envs\\py35\\lib\\site-packages\\sklearn\\metrics\\classification.py:1137: UndefinedMetricWarning:\n",
      "\n",
      "F-score is ill-defined and being set to 0.0 in labels with no true samples.\n",
      "\n",
      "C:\\Program Files\\Anaconda2\\envs\\py35\\lib\\site-packages\\sklearn\\metrics\\classification.py:1137: UndefinedMetricWarning:\n",
      "\n",
      "F-score is ill-defined and being set to 0.0 in labels with no true samples.\n",
      "\n",
      "C:\\Program Files\\Anaconda2\\envs\\py35\\lib\\site-packages\\sklearn\\metrics\\classification.py:1137: UndefinedMetricWarning:\n",
      "\n",
      "F-score is ill-defined and being set to 0.0 in labels with no true samples.\n",
      "\n",
      "C:\\Program Files\\Anaconda2\\envs\\py35\\lib\\site-packages\\sklearn\\metrics\\classification.py:1137: UndefinedMetricWarning:\n",
      "\n",
      "F-score is ill-defined and being set to 0.0 in labels with no true samples.\n",
      "\n",
      "C:\\Program Files\\Anaconda2\\envs\\py35\\lib\\site-packages\\sklearn\\metrics\\classification.py:1137: UndefinedMetricWarning:\n",
      "\n",
      "F-score is ill-defined and being set to 0.0 in labels with no true samples.\n",
      "\n",
      "C:\\Program Files\\Anaconda2\\envs\\py35\\lib\\site-packages\\sklearn\\metrics\\classification.py:1137: UndefinedMetricWarning:\n",
      "\n",
      "F-score is ill-defined and being set to 0.0 in labels with no true samples.\n",
      "\n",
      "C:\\Program Files\\Anaconda2\\envs\\py35\\lib\\site-packages\\sklearn\\metrics\\classification.py:1137: UndefinedMetricWarning:\n",
      "\n",
      "F-score is ill-defined and being set to 0.0 in labels with no true samples.\n",
      "\n",
      "C:\\Program Files\\Anaconda2\\envs\\py35\\lib\\site-packages\\sklearn\\metrics\\classification.py:1137: UndefinedMetricWarning:\n",
      "\n",
      "F-score is ill-defined and being set to 0.0 in labels with no true samples.\n",
      "\n"
     ]
    },
    {
     "name": "stdout",
     "output_type": "stream",
     "text": [
      "accuracy mean 0.11514999999999997\n",
      "f1 mean 0.13643402479117075\n",
      "reduced_4000.out\n"
     ]
    },
    {
     "name": "stderr",
     "output_type": "stream",
     "text": [
      "C:\\Program Files\\Anaconda2\\envs\\py35\\lib\\site-packages\\sklearn\\metrics\\classification.py:1137: UndefinedMetricWarning:\n",
      "\n",
      "F-score is ill-defined and being set to 0.0 in labels with no true samples.\n",
      "\n",
      "C:\\Program Files\\Anaconda2\\envs\\py35\\lib\\site-packages\\sklearn\\metrics\\classification.py:1137: UndefinedMetricWarning:\n",
      "\n",
      "F-score is ill-defined and being set to 0.0 in labels with no true samples.\n",
      "\n",
      "C:\\Program Files\\Anaconda2\\envs\\py35\\lib\\site-packages\\sklearn\\metrics\\classification.py:1137: UndefinedMetricWarning:\n",
      "\n",
      "F-score is ill-defined and being set to 0.0 in labels with no true samples.\n",
      "\n",
      "C:\\Program Files\\Anaconda2\\envs\\py35\\lib\\site-packages\\sklearn\\metrics\\classification.py:1137: UndefinedMetricWarning:\n",
      "\n",
      "F-score is ill-defined and being set to 0.0 in labels with no true samples.\n",
      "\n",
      "C:\\Program Files\\Anaconda2\\envs\\py35\\lib\\site-packages\\sklearn\\metrics\\classification.py:1137: UndefinedMetricWarning:\n",
      "\n",
      "F-score is ill-defined and being set to 0.0 in labels with no true samples.\n",
      "\n",
      "C:\\Program Files\\Anaconda2\\envs\\py35\\lib\\site-packages\\sklearn\\metrics\\classification.py:1137: UndefinedMetricWarning:\n",
      "\n",
      "F-score is ill-defined and being set to 0.0 in labels with no true samples.\n",
      "\n",
      "C:\\Program Files\\Anaconda2\\envs\\py35\\lib\\site-packages\\sklearn\\metrics\\classification.py:1137: UndefinedMetricWarning:\n",
      "\n",
      "F-score is ill-defined and being set to 0.0 in labels with no true samples.\n",
      "\n",
      "C:\\Program Files\\Anaconda2\\envs\\py35\\lib\\site-packages\\sklearn\\metrics\\classification.py:1137: UndefinedMetricWarning:\n",
      "\n",
      "F-score is ill-defined and being set to 0.0 in labels with no true samples.\n",
      "\n",
      "C:\\Program Files\\Anaconda2\\envs\\py35\\lib\\site-packages\\sklearn\\metrics\\classification.py:1137: UndefinedMetricWarning:\n",
      "\n",
      "F-score is ill-defined and being set to 0.0 in labels with no true samples.\n",
      "\n",
      "C:\\Program Files\\Anaconda2\\envs\\py35\\lib\\site-packages\\sklearn\\metrics\\classification.py:1137: UndefinedMetricWarning:\n",
      "\n",
      "F-score is ill-defined and being set to 0.0 in labels with no true samples.\n",
      "\n"
     ]
    },
    {
     "name": "stdout",
     "output_type": "stream",
     "text": [
      "accuracy mean 0.10225\n",
      "f1 mean 0.1243647631274544\n",
      "reduced_6000.out\n"
     ]
    },
    {
     "name": "stderr",
     "output_type": "stream",
     "text": [
      "C:\\Program Files\\Anaconda2\\envs\\py35\\lib\\site-packages\\sklearn\\metrics\\classification.py:1137: UndefinedMetricWarning:\n",
      "\n",
      "F-score is ill-defined and being set to 0.0 in labels with no true samples.\n",
      "\n",
      "C:\\Program Files\\Anaconda2\\envs\\py35\\lib\\site-packages\\sklearn\\metrics\\classification.py:1137: UndefinedMetricWarning:\n",
      "\n",
      "F-score is ill-defined and being set to 0.0 in labels with no true samples.\n",
      "\n",
      "C:\\Program Files\\Anaconda2\\envs\\py35\\lib\\site-packages\\sklearn\\metrics\\classification.py:1137: UndefinedMetricWarning:\n",
      "\n",
      "F-score is ill-defined and being set to 0.0 in labels with no true samples.\n",
      "\n",
      "C:\\Program Files\\Anaconda2\\envs\\py35\\lib\\site-packages\\sklearn\\metrics\\classification.py:1137: UndefinedMetricWarning:\n",
      "\n",
      "F-score is ill-defined and being set to 0.0 in labels with no true samples.\n",
      "\n",
      "C:\\Program Files\\Anaconda2\\envs\\py35\\lib\\site-packages\\sklearn\\metrics\\classification.py:1137: UndefinedMetricWarning:\n",
      "\n",
      "F-score is ill-defined and being set to 0.0 in labels with no true samples.\n",
      "\n",
      "C:\\Program Files\\Anaconda2\\envs\\py35\\lib\\site-packages\\sklearn\\metrics\\classification.py:1137: UndefinedMetricWarning:\n",
      "\n",
      "F-score is ill-defined and being set to 0.0 in labels with no true samples.\n",
      "\n",
      "C:\\Program Files\\Anaconda2\\envs\\py35\\lib\\site-packages\\sklearn\\metrics\\classification.py:1137: UndefinedMetricWarning:\n",
      "\n",
      "F-score is ill-defined and being set to 0.0 in labels with no true samples.\n",
      "\n",
      "C:\\Program Files\\Anaconda2\\envs\\py35\\lib\\site-packages\\sklearn\\metrics\\classification.py:1137: UndefinedMetricWarning:\n",
      "\n",
      "F-score is ill-defined and being set to 0.0 in labels with no true samples.\n",
      "\n",
      "C:\\Program Files\\Anaconda2\\envs\\py35\\lib\\site-packages\\sklearn\\metrics\\classification.py:1137: UndefinedMetricWarning:\n",
      "\n",
      "F-score is ill-defined and being set to 0.0 in labels with no true samples.\n",
      "\n"
     ]
    },
    {
     "name": "stdout",
     "output_type": "stream",
     "text": [
      "accuracy mean 0.10070000000000001\n",
      "f1 mean 0.12243301909735327\n"
     ]
    },
    {
     "name": "stderr",
     "output_type": "stream",
     "text": [
      "C:\\Program Files\\Anaconda2\\envs\\py35\\lib\\site-packages\\sklearn\\metrics\\classification.py:1137: UndefinedMetricWarning:\n",
      "\n",
      "F-score is ill-defined and being set to 0.0 in labels with no true samples.\n",
      "\n"
     ]
    }
   ],
   "source": [
    "from sklearn.ensemble import RandomForestClassifier\n",
    "\n",
    "filenames=['reduced_10.out','reduced_100.out','reduced_500.out','reduced_1000.out','reduced_2000.out','reduced_4000.out','reduced_6000.out']\n",
    "for fname in filenames:\n",
    "    print(fname)\n",
    "    X_train=np.loadtxt(fname, delimiter=',')\n",
    "    X_train = X_train[:20000,:]\n",
    "    train.state = pd.Categorical(train.state)\n",
    "    Y_train= train.state.cat.codes\n",
    "    n_folds=10\n",
    "    kf = KFold(n_splits=n_folds,random_state=11)\n",
    "    ac = []\n",
    "    f1 = []\n",
    "    for train_index, valid_index in kf.split(X_train):\n",
    "\n",
    "        X, XT = X_train[train_index], X_train[valid_index]\n",
    "        Y, YT = Y_train[train_index], Y_train[valid_index]\n",
    "\n",
    "        clf = RandomForestClassifier()\n",
    "        clf.fit(X, Y)\n",
    "        pred=clf.predict(XT)\n",
    "        ac.append(accuracy_score(pred, YT))\n",
    "        f1.append(metrics.f1_score(pred, YT, average='weighted'))\n",
    "    print(\"accuracy mean {}\".format(np.average(ac)))\n",
    "    print(\"f1 mean {}\".format(np.average(f1)))"
   ]
  },
  {
   "cell_type": "markdown",
   "metadata": {},
   "source": [
    "# Test RidgeClassifier"
   ]
  },
  {
   "cell_type": "code",
   "execution_count": 77,
   "metadata": {
    "collapsed": true
   },
   "outputs": [
    {
     "name": "stdout",
     "output_type": "stream",
     "text": [
      "reduced_10.out\n"
     ]
    },
    {
     "name": "stderr",
     "output_type": "stream",
     "text": [
      "C:\\Program Files\\Anaconda2\\envs\\py35\\lib\\site-packages\\sklearn\\metrics\\classification.py:1137: UndefinedMetricWarning:\n",
      "\n",
      "F-score is ill-defined and being set to 0.0 in labels with no true samples.\n",
      "\n"
     ]
    },
    {
     "name": "stdout",
     "output_type": "stream",
     "text": [
      "accuracy mean 0.12895\n",
      "f1 mean 0.21582361342373063\n",
      "reduced_100.out\n",
      "accuracy mean 0.26575000000000004\n",
      "f1 mean 0.3302802075344601\n",
      "reduced_500.out\n",
      "accuracy mean 0.34809999999999997\n",
      "f1 mean 0.3868145863141509\n",
      "reduced_1000.out\n",
      "accuracy mean 0.36125\n",
      "f1 mean 0.39411710425977686\n",
      "reduced_2000.out\n",
      "accuracy mean 0.36124999999999996\n",
      "f1 mean 0.38952560851102797\n",
      "reduced_4000.out\n",
      "accuracy mean 0.3463\n",
      "f1 mean 0.3719846628348648\n",
      "reduced_6000.out\n",
      "accuracy mean 0.3396\n",
      "f1 mean 0.36479259053206115\n"
     ]
    }
   ],
   "source": [
    "from sklearn.linear_model import RidgeClassifier\n",
    "\n",
    "filenames=['reduced_10.out','reduced_100.out','reduced_500.out','reduced_1000.out','reduced_2000.out','reduced_4000.out','reduced_6000.out']\n",
    "for fname in filenames:\n",
    "    print(fname)\n",
    "    X_train=np.loadtxt(fname, delimiter=',')\n",
    "    X_train = X_train[:20000,:]\n",
    "    train.state = pd.Categorical(train.state)\n",
    "    Y_train= train.state.cat.codes\n",
    "    n_folds=10\n",
    "    kf = KFold(n_splits=n_folds,random_state=11)\n",
    "    ac = []\n",
    "    f1 = []\n",
    "    for train_index, valid_index in kf.split(X_train):\n",
    "\n",
    "        X, XT = X_train[train_index], X_train[valid_index]\n",
    "        Y, YT = Y_train[train_index], Y_train[valid_index]\n",
    "\n",
    "        clf = RidgeClassifier()\n",
    "        clf.fit(X, Y)\n",
    "        pred=clf.predict(XT)\n",
    "        ac.append(accuracy_score(pred, YT))\n",
    "        f1.append(metrics.f1_score(pred, YT, average='weighted'))\n",
    "    print(\"accuracy mean {}\".format(np.average(ac)))\n",
    "    print(\"f1 mean {}\".format(np.average(f1)))"
   ]
  },
  {
   "cell_type": "markdown",
   "metadata": {},
   "source": [
    "# Grid search Logistic regression"
   ]
  },
  {
   "cell_type": "code",
   "execution_count": 17,
   "metadata": {
    "collapsed": false
   },
   "outputs": [],
   "source": [
    "\n",
    "\n",
    "def xgb_tuner(X,Y, n_models , verbose=False):\n",
    "\n",
    "    folds = defaultdict(list)\n",
    "    diz = defaultdict(list)\n",
    "\n",
    "    \n",
    "    n_folds = 10\n",
    "    \n",
    "    kf = KFold(n_splits=n_folds,random_state=11)\n",
    "\n",
    "    for i in range(n_models):\n",
    "        params = {}\n",
    "        params['booster'] = 'gbtree'\n",
    "        params['objective'] = 'multi:softprob'\n",
    "        params['eta'] = 0.3\n",
    "        params['gamma'] = random.uniform(0, 0.5)\n",
    "        params['alpha'] = random.uniform(0, 0.5)\n",
    "        params['lambda'] = random.uniform(0, 1)\n",
    "        params['min_child_weight'] = random.uniform(0,100)\n",
    "        params['colsample_bytree'] = random.uniform(0.5,0.99)\n",
    "        params['subsample'] = random.uniform(0.5,0.99)\n",
    "        params['max_depth'] = random.randint(6,15)\n",
    "        params['max_delta_step'] = random.uniform(0,10)\n",
    "        params['silent'] = 1\n",
    "        params['random_state'] = 1001\n",
    "        params['num_class'] = max(Y)+1\n",
    "        #params['eval_metric'] =\"auc\"\n",
    "        \n",
    "        r_ix = 0\n",
    "        \n",
    "        print (\"Model number {}\".format(i))\n",
    "        \n",
    "        predictions = []\n",
    "        \n",
    "        split_count=0\n",
    "        \n",
    "        dataset = []\n",
    "        \n",
    "        for train_index, valid_index in kf.split(X):\n",
    "            \n",
    "            \n",
    "            \n",
    "            Y_train=Y.values\n",
    "            X_train, X_valid = X[train_index], X[valid_index]\n",
    "            y_train, y_valid = Y_train[train_index], Y_train[valid_index]\n",
    "\n",
    "            run_cv = {}\n",
    "            \n",
    "            d_train = xgb.DMatrix(X_train, label=y_train)\n",
    "            d_valid = xgb.DMatrix(X_valid, label=y_valid)\n",
    "            \n",
    "            watchlist = [(d_train, 'train'), (d_valid, 'eval')] \n",
    "\n",
    "            model = xgb.train(params, d_train, num_boost_round=1000,  evals = watchlist,\n",
    "                              early_stopping_rounds=30, verbose_eval = True)\n",
    "\n",
    "\n",
    "            y_pred_val = model.predict(d_valid)\n",
    "            error_rate_val = np.sum(y_pred_val != y_valid) / X_valid.shape[0]\n",
    "            \n",
    "            y_pred_train = model.predict(d_train)\n",
    "            error_rate_train = np.sum(y_pred_train != y_train) / X_train.shape[0]\n",
    "            \n",
    "            run_cv = {'prob_val':y_pred_val,'prob_train':y_pred_train,'y_val':y_valid,'y_train':y_train}\n",
    "#             \n",
    "            dataset.append(run_cv)\n",
    "            print (\"fold number {}\".format(split_count))\n",
    "#             print (y_pred.shape)\n",
    "#             print (np.argmax(y_pred,axis=1))\n",
    "            acc=accuracy_score(np.argmax(y_pred_val,axis=1), y_valid)\n",
    "            print (acc)\n",
    "#             predictions.append(y_pred)\n",
    "            r_ix += int(model.best_ntree_limit)\n",
    "            split_count+=1\n",
    "\n",
    "        r_ix = int(r_ix/n_folds)\n",
    "        diz['params'].append(params)\n",
    "        diz['dataset'].append(dataset)\n",
    "        diz['acc'].append(acc)\n",
    "        diz['r_ix'].append(r_ix)\n",
    "        \n",
    "        if verbose:        \n",
    "            print(\"Model {0}: {1}\".format(i,np.mean(diz['acc'])),\n",
    "                  '\\n r_ix = {}'.format(r_ix))\n",
    "    return diz#,model"
   ]
  }
 ],
 "metadata": {
  "kernelspec": {
   "display_name": "Python 3",
   "language": "python",
   "name": "python3"
  }
 },
 "nbformat": 4,
 "nbformat_minor": 2
}
